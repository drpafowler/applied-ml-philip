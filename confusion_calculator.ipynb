{
 "cells": [
  {
   "cell_type": "code",
   "execution_count": 1,
   "metadata": {},
   "outputs": [],
   "source": [
    "import numpy as np\n",
    "import pandas as pd\n",
    "import matplotlib.pyplot as plt\n",
    "import seaborn as sns"
   ]
  },
  {
   "cell_type": "code",
   "execution_count": null,
   "metadata": {},
   "outputs": [],
   "source": [
    "#actual_positive_rate = 0.3\n",
    "#precision = 0.61\n",
    "#recall = 0.65\n",
    "#num_instances = 1000"
   ]
  },
  {
   "cell_type": "code",
   "execution_count": null,
   "metadata": {},
   "outputs": [],
   "source": [
    "def calculate_confusion_matrix_from_rates(actual_positive_rate, precision, recall, num_instances):\n",
    "\n",
    "    if not (0 <= actual_positive_rate <= 1 and 0 <= precision <= 1 and 0 <= recall <= 1 and num_instances > 0):\n",
    "        return None\n",
    "\n",
    "    if recall == 0:\n",
    "        return None\n",
    "\n",
    "    tp = recall * actual_positive_rate * num_instances\n",
    "    if precision == 0 and tp != 0:\n",
    "        return None\n",
    "\n",
    "    if precision == 0:\n",
    "        fp = 0\n",
    "    else:\n",
    "        fp = (tp / precision) - tp\n",
    "\n",
    "    fn = (actual_positive_rate * num_instances) - tp\n",
    "\n",
    "    tn = num_instances - (tp + fp + fn)\n",
    "\n",
    "    if tp < 0 or fp < 0 or fn < 0 or tn < 0:\n",
    "        return None\n",
    "\n",
    "    return {\n",
    "        'TP': round(tp),\n",
    "        'FP': round(fp),\n",
    "        'FN': round(fn),\n",
    "        'TN': round(tn),\n",
    "    }\n",
    "\n",
    "def calculate_metrics_from_rates(actual_positive_rate, precision, recall, num_instances):\n",
    "\n",
    "  confusion_matrix = calculate_confusion_matrix_from_rates(actual_positive_rate,precision,recall,num_instances)\n",
    "\n",
    "  if confusion_matrix is None:\n",
    "    return None\n",
    "\n",
    "  tp = confusion_matrix['TP']\n",
    "  fp = confusion_matrix['FP']\n",
    "  fn = confusion_matrix['FN']\n",
    "  tn = confusion_matrix['TN']\n",
    "\n",
    "  if num_instances == 0:\n",
    "    return None\n",
    "\n",
    "  accuracy = (tp + tn) / num_instances\n",
    "\n",
    "  if precision + recall == 0:\n",
    "      f1_score = 0\n",
    "  else:\n",
    "      f1_score = 2 * (precision * recall) / (precision + recall)\n",
    "\n",
    "  return {\n",
    "    'confusion_matrix': confusion_matrix,\n",
    "    'accuracy': round(accuracy, 2),\n",
    "    'f1_score': round(f1_score, 2)\n",
    "  }\n",
    "\n",
    "print(calculate_metrics_from_rates(actual_positive_rate, precision, recall, num_instances))"
   ]
  },
  {
   "cell_type": "code",
   "execution_count": null,
   "metadata": {},
   "outputs": [],
   "source": [
    "confusion_matrix = calculate_confusion_matrix_from_rates(actual_positive_rate, precision, recall, num_instances)\n",
    "\n",
    "if confusion_matrix:\n",
    "    matrix = np.array([[confusion_matrix['TP'], confusion_matrix['FP']],\n",
    "                       [confusion_matrix['FN'], confusion_matrix['TN']]])\n",
    "\n",
    "    fig, ax = plt.subplots()\n",
    "    sns.heatmap(matrix, annot=True, fmt='g', cmap='Blues', ax=ax)\n",
    "\n",
    "    ax.set_xlabel('Predicted labels')\n",
    "    ax.set_ylabel('True labels')\n",
    "    ax.set_title('Confusion Matrix')\n",
    "    ax.xaxis.set_ticklabels(['Positive', 'Negative'])\n",
    "    ax.yaxis.set_ticklabels(['Positive', 'Negative'])\n",
    "\n",
    "    plt.show()\n",
    "else:\n",
    "    print(\"Invalid confusion matrix values.\")"
   ]
  },
  {
   "cell_type": "code",
   "execution_count": 21,
   "metadata": {},
   "outputs": [],
   "source": [
    "tp = 290\n",
    "fp = 150\n",
    "fn = 10\n",
    "tn = 550"
   ]
  },
  {
   "cell_type": "code",
   "execution_count": 22,
   "metadata": {},
   "outputs": [
    {
     "name": "stdout",
     "output_type": "stream",
     "text": [
      "{'precision': 0.66, 'recall': 0.97, 'accuracy': 0.84}\n"
     ]
    }
   ],
   "source": [
    "def calculate_rates_from_confusion_matrix(tp, fp, fn, tn):\n",
    "    if tp + fp == 0:\n",
    "        precision = 0\n",
    "    else:\n",
    "        precision = tp / (tp + fp)\n",
    "\n",
    "    if tp + fn == 0:\n",
    "        recall = 0\n",
    "    else:\n",
    "        recall = tp / (tp + fn)\n",
    "\n",
    "    if tp + tn + fp + fn == 0:\n",
    "        accuracy = 0\n",
    "    else:\n",
    "        accuracy = (tp + tn) / (tp + tn + fp + fn)\n",
    "\n",
    "    return {\n",
    "        'precision': round(precision, 2),\n",
    "        'recall': round(recall, 2),\n",
    "        'accuracy': round(accuracy, 2)\n",
    "    }\n",
    "\n",
    "rates = calculate_rates_from_confusion_matrix(tp, fp, fn, tn)\n",
    "print(rates)"
   ]
  },
  {
   "cell_type": "code",
   "execution_count": 23,
   "metadata": {},
   "outputs": [
    {
     "data": {
      "image/png": "[encoded data removed]",
      "text/plain": [
       "<Figure size 640x480 with 2 Axes>"
      ]
     },
     "metadata": {},
     "output_type": "display_data"
    }
   ],
   "source": [
    "matrix = np.array([[tp, fp],\n",
    "                   [fn, tn]])\n",
    "\n",
    "fig, ax = plt.subplots()\n",
    "sns.heatmap(matrix, annot=True, fmt='g', cmap='Blues', ax=ax)\n",
    "\n",
    "ax.set_xlabel('Predicted labels')\n",
    "ax.set_ylabel('True labels')\n",
    "ax.set_title('Confusion Matrix')\n",
    "ax.xaxis.set_ticklabels(['Positive', 'Negative'])\n",
    "ax.yaxis.set_ticklabels(['Positive', 'Negative'])\n",
    "\n",
    "plt.show()"
   ]
  }
 ],
 "metadata": {
  "kernelspec": {
   "display_name": ".venv",
   "language": "python",
   "name": "python3"
  },
  "language_info": {
   "codemirror_mode": {
    "name": "ipython",
    "version": 3
   },
   "file_extension": ".py",
   "mimetype": "text/x-python",
   "name": "python",
   "nbconvert_exporter": "python",
   "pygments_lexer": "ipython3",
   "version": "3.12.3"
  }
 },
 "nbformat": 4,
 "nbformat_minor": 2
}
