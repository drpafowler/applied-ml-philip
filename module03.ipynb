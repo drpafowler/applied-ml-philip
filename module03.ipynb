{
 "cells": [
  {
   "cell_type": "code",
   "execution_count": 22,
   "metadata": {},
   "outputs": [],
   "source": [
    "import pandas as pd\n",
    "import numpy as np\n",
    "import matplotlib.pyplot as plt\n",
    "import seaborn as sns\n",
    "import pywaffle\n",
    "from pywaffle import Waffle"
   ]
  },
  {
   "cell_type": "code",
   "execution_count": 13,
   "metadata": {},
   "outputs": [
    {
     "data": {
      "application/vnd.microsoft.datawrangler.viewer.v0+json": {
       "columns": [
        {
         "name": "index",
         "rawType": "int64",
         "type": "integer"
        },
        {
         "name": "Name",
         "rawType": "object",
         "type": "string"
        },
        {
         "name": "Role",
         "rawType": "object",
         "type": "string"
        },
        {
         "name": "Mode of Transport",
         "rawType": "object",
         "type": "string"
        },
        {
         "name": "Department",
         "rawType": "object",
         "type": "string"
        }
       ],
       "conversionMethod": "pd.DataFrame",
       "ref": "58472006-2b93-4a28-8c95-2f10b3e0ddc8",
       "rows": [
        [
         "0",
         "John Smith",
         "Student",
         "Car",
         "english"
        ],
        [
         "1",
         "Jane Doe",
         "Student",
         "Bus",
         "english"
        ],
        [
         "2",
         "Michael Brown",
         "Faculty",
         "Walk",
         "history"
        ],
        [
         "3",
         "Emily Green",
         "Staff",
         "Bicycle",
         "english"
        ],
        [
         "4",
         "David White",
         "Student",
         "Car",
         "history"
        ]
       ],
       "shape": {
        "columns": 4,
        "rows": 5
       }
      },
      "text/html": [
       "<div>\n",
       "<style scoped>\n",
       "    .dataframe tbody tr th:only-of-type {\n",
       "        vertical-align: middle;\n",
       "    }\n",
       "\n",
       "    .dataframe tbody tr th {\n",
       "        vertical-align: top;\n",
       "    }\n",
       "\n",
       "    .dataframe thead th {\n",
       "        text-align: right;\n",
       "    }\n",
       "</style>\n",
       "<table border=\"1\" class=\"dataframe\">\n",
       "  <thead>\n",
       "    <tr style=\"text-align: right;\">\n",
       "      <th></th>\n",
       "      <th>Name</th>\n",
       "      <th>Role</th>\n",
       "      <th>Mode of Transport</th>\n",
       "      <th>Department</th>\n",
       "    </tr>\n",
       "  </thead>\n",
       "  <tbody>\n",
       "    <tr>\n",
       "      <th>0</th>\n",
       "      <td>John Smith</td>\n",
       "      <td>Student</td>\n",
       "      <td>Car</td>\n",
       "      <td>english</td>\n",
       "    </tr>\n",
       "    <tr>\n",
       "      <th>1</th>\n",
       "      <td>Jane Doe</td>\n",
       "      <td>Student</td>\n",
       "      <td>Bus</td>\n",
       "      <td>english</td>\n",
       "    </tr>\n",
       "    <tr>\n",
       "      <th>2</th>\n",
       "      <td>Michael Brown</td>\n",
       "      <td>Faculty</td>\n",
       "      <td>Walk</td>\n",
       "      <td>history</td>\n",
       "    </tr>\n",
       "    <tr>\n",
       "      <th>3</th>\n",
       "      <td>Emily Green</td>\n",
       "      <td>Staff</td>\n",
       "      <td>Bicycle</td>\n",
       "      <td>english</td>\n",
       "    </tr>\n",
       "    <tr>\n",
       "      <th>4</th>\n",
       "      <td>David White</td>\n",
       "      <td>Student</td>\n",
       "      <td>Car</td>\n",
       "      <td>history</td>\n",
       "    </tr>\n",
       "  </tbody>\n",
       "</table>\n",
       "</div>"
      ],
      "text/plain": [
       "            Name     Role Mode of Transport Department\n",
       "0     John Smith  Student               Car    english\n",
       "1       Jane Doe  Student               Bus    english\n",
       "2  Michael Brown  Faculty              Walk    history\n",
       "3    Emily Green    Staff           Bicycle    english\n",
       "4    David White  Student               Car    history"
      ]
     },
     "execution_count": 13,
     "metadata": {},
     "output_type": "execute_result"
    }
   ],
   "source": [
    "df = pd.read_csv('Fowler_Module3Charts - data.csv')\n",
    "df.head()"
   ]
  },
  {
   "cell_type": "code",
   "execution_count": 14,
   "metadata": {},
   "outputs": [
    {
     "data": {
      "text/plain": [
       "(89, 4)"
      ]
     },
     "execution_count": 14,
     "metadata": {},
     "output_type": "execute_result"
    }
   ],
   "source": [
    "df.shape"
   ]
  },
  {
   "cell_type": "code",
   "execution_count": 15,
   "metadata": {
    "vscode": {
     "languageId": "javascript"
    }
   },
   "outputs": [
    {
     "data": {
      "application/vnd.microsoft.datawrangler.viewer.v0+json": {
       "columns": [
        {
         "name": "index",
         "rawType": "int64",
         "type": "integer"
        },
        {
         "name": "Name",
         "rawType": "object",
         "type": "string"
        },
        {
         "name": "Role",
         "rawType": "object",
         "type": "string"
        },
        {
         "name": "Mode of Transport",
         "rawType": "object",
         "type": "string"
        },
        {
         "name": "Department",
         "rawType": "object",
         "type": "string"
        },
        {
         "name": "First",
         "rawType": "object",
         "type": "string"
        },
        {
         "name": "Last",
         "rawType": "object",
         "type": "string"
        }
       ],
       "conversionMethod": "pd.DataFrame",
       "ref": "190359f4-e6c5-48d6-94df-c09a778399c2",
       "rows": [
        [
         "0",
         "John Smith",
         "Student",
         "Car",
         "english",
         "John",
         "Smith"
        ],
        [
         "1",
         "Jane Doe",
         "Student",
         "Bus",
         "english",
         "Jane",
         "Doe"
        ],
        [
         "2",
         "Michael Brown",
         "Faculty",
         "Walk",
         "history",
         "Michael",
         "Brown"
        ],
        [
         "3",
         "Emily Green",
         "Staff",
         "Bicycle",
         "english",
         "Emily",
         "Green"
        ],
        [
         "4",
         "David White",
         "Student",
         "Car",
         "history",
         "David",
         "White"
        ]
       ],
       "shape": {
        "columns": 6,
        "rows": 5
       }
      },
      "text/html": [
       "<div>\n",
       "<style scoped>\n",
       "    .dataframe tbody tr th:only-of-type {\n",
       "        vertical-align: middle;\n",
       "    }\n",
       "\n",
       "    .dataframe tbody tr th {\n",
       "        vertical-align: top;\n",
       "    }\n",
       "\n",
       "    .dataframe thead th {\n",
       "        text-align: right;\n",
       "    }\n",
       "</style>\n",
       "<table border=\"1\" class=\"dataframe\">\n",
       "  <thead>\n",
       "    <tr style=\"text-align: right;\">\n",
       "      <th></th>\n",
       "      <th>Name</th>\n",
       "      <th>Role</th>\n",
       "      <th>Mode of Transport</th>\n",
       "      <th>Department</th>\n",
       "      <th>First</th>\n",
       "      <th>Last</th>\n",
       "    </tr>\n",
       "  </thead>\n",
       "  <tbody>\n",
       "    <tr>\n",
       "      <th>0</th>\n",
       "      <td>John Smith</td>\n",
       "      <td>Student</td>\n",
       "      <td>Car</td>\n",
       "      <td>english</td>\n",
       "      <td>John</td>\n",
       "      <td>Smith</td>\n",
       "    </tr>\n",
       "    <tr>\n",
       "      <th>1</th>\n",
       "      <td>Jane Doe</td>\n",
       "      <td>Student</td>\n",
       "      <td>Bus</td>\n",
       "      <td>english</td>\n",
       "      <td>Jane</td>\n",
       "      <td>Doe</td>\n",
       "    </tr>\n",
       "    <tr>\n",
       "      <th>2</th>\n",
       "      <td>Michael Brown</td>\n",
       "      <td>Faculty</td>\n",
       "      <td>Walk</td>\n",
       "      <td>history</td>\n",
       "      <td>Michael</td>\n",
       "      <td>Brown</td>\n",
       "    </tr>\n",
       "    <tr>\n",
       "      <th>3</th>\n",
       "      <td>Emily Green</td>\n",
       "      <td>Staff</td>\n",
       "      <td>Bicycle</td>\n",
       "      <td>english</td>\n",
       "      <td>Emily</td>\n",
       "      <td>Green</td>\n",
       "    </tr>\n",
       "    <tr>\n",
       "      <th>4</th>\n",
       "      <td>David White</td>\n",
       "      <td>Student</td>\n",
       "      <td>Car</td>\n",
       "      <td>history</td>\n",
       "      <td>David</td>\n",
       "      <td>White</td>\n",
       "    </tr>\n",
       "  </tbody>\n",
       "</table>\n",
       "</div>"
      ],
      "text/plain": [
       "            Name     Role Mode of Transport Department    First   Last\n",
       "0     John Smith  Student               Car    english     John  Smith\n",
       "1       Jane Doe  Student               Bus    english     Jane    Doe\n",
       "2  Michael Brown  Faculty              Walk    history  Michael  Brown\n",
       "3    Emily Green    Staff           Bicycle    english    Emily  Green\n",
       "4    David White  Student               Car    history    David  White"
      ]
     },
     "execution_count": 15,
     "metadata": {},
     "output_type": "execute_result"
    }
   ],
   "source": [
    "df[['First', 'Last']] = df['Name'].str.split(' ', n=1, expand=True)\n",
    "df.head()"
   ]
  },
  {
   "cell_type": "code",
   "execution_count": 16,
   "metadata": {
    "vscode": {
     "languageId": "javascript"
    }
   },
   "outputs": [
    {
     "data": {
      "application/vnd.microsoft.datawrangler.viewer.v0+json": {
       "columns": [
        {
         "name": "index",
         "rawType": "int64",
         "type": "integer"
        },
        {
         "name": "Role",
         "rawType": "object",
         "type": "string"
        },
        {
         "name": "Mode of Transport",
         "rawType": "object",
         "type": "string"
        },
        {
         "name": "Department",
         "rawType": "object",
         "type": "string"
        },
        {
         "name": "First",
         "rawType": "object",
         "type": "string"
        },
        {
         "name": "Last",
         "rawType": "object",
         "type": "string"
        }
       ],
       "conversionMethod": "pd.DataFrame",
       "ref": "19e249d8-fc82-430b-80f2-b9b04f97cc97",
       "rows": [
        [
         "0",
         "Student",
         "Car",
         "english",
         "John",
         "Smith"
        ],
        [
         "1",
         "Student",
         "Bus",
         "english",
         "Jane",
         "Doe"
        ],
        [
         "2",
         "Faculty",
         "Walk",
         "history",
         "Michael",
         "Brown"
        ],
        [
         "3",
         "Staff",
         "Bicycle",
         "english",
         "Emily",
         "Green"
        ],
        [
         "4",
         "Student",
         "Car",
         "history",
         "David",
         "White"
        ]
       ],
       "shape": {
        "columns": 5,
        "rows": 5
       }
      },
      "text/html": [
       "<div>\n",
       "<style scoped>\n",
       "    .dataframe tbody tr th:only-of-type {\n",
       "        vertical-align: middle;\n",
       "    }\n",
       "\n",
       "    .dataframe tbody tr th {\n",
       "        vertical-align: top;\n",
       "    }\n",
       "\n",
       "    .dataframe thead th {\n",
       "        text-align: right;\n",
       "    }\n",
       "</style>\n",
       "<table border=\"1\" class=\"dataframe\">\n",
       "  <thead>\n",
       "    <tr style=\"text-align: right;\">\n",
       "      <th></th>\n",
       "      <th>Role</th>\n",
       "      <th>Mode of Transport</th>\n",
       "      <th>Department</th>\n",
       "      <th>First</th>\n",
       "      <th>Last</th>\n",
       "    </tr>\n",
       "  </thead>\n",
       "  <tbody>\n",
       "    <tr>\n",
       "      <th>0</th>\n",
       "      <td>Student</td>\n",
       "      <td>Car</td>\n",
       "      <td>english</td>\n",
       "      <td>John</td>\n",
       "      <td>Smith</td>\n",
       "    </tr>\n",
       "    <tr>\n",
       "      <th>1</th>\n",
       "      <td>Student</td>\n",
       "      <td>Bus</td>\n",
       "      <td>english</td>\n",
       "      <td>Jane</td>\n",
       "      <td>Doe</td>\n",
       "    </tr>\n",
       "    <tr>\n",
       "      <th>2</th>\n",
       "      <td>Faculty</td>\n",
       "      <td>Walk</td>\n",
       "      <td>history</td>\n",
       "      <td>Michael</td>\n",
       "      <td>Brown</td>\n",
       "    </tr>\n",
       "    <tr>\n",
       "      <th>3</th>\n",
       "      <td>Staff</td>\n",
       "      <td>Bicycle</td>\n",
       "      <td>english</td>\n",
       "      <td>Emily</td>\n",
       "      <td>Green</td>\n",
       "    </tr>\n",
       "    <tr>\n",
       "      <th>4</th>\n",
       "      <td>Student</td>\n",
       "      <td>Car</td>\n",
       "      <td>history</td>\n",
       "      <td>David</td>\n",
       "      <td>White</td>\n",
       "    </tr>\n",
       "  </tbody>\n",
       "</table>\n",
       "</div>"
      ],
      "text/plain": [
       "      Role Mode of Transport Department    First   Last\n",
       "0  Student               Car    english     John  Smith\n",
       "1  Student               Bus    english     Jane    Doe\n",
       "2  Faculty              Walk    history  Michael  Brown\n",
       "3    Staff           Bicycle    english    Emily  Green\n",
       "4  Student               Car    history    David  White"
      ]
     },
     "execution_count": 16,
     "metadata": {},
     "output_type": "execute_result"
    }
   ],
   "source": [
    "df = df.drop(columns=['Name'])\n",
    "df.head()"
   ]
  },
  {
   "cell_type": "code",
   "execution_count": 17,
   "metadata": {},
   "outputs": [
    {
     "data": {
      "application/vnd.microsoft.datawrangler.viewer.v0+json": {
       "columns": [
        {
         "name": "index",
         "rawType": "int64",
         "type": "integer"
        },
        {
         "name": "Role",
         "rawType": "object",
         "type": "string"
        },
        {
         "name": "Mode of Transport",
         "rawType": "object",
         "type": "string"
        },
        {
         "name": "Department",
         "rawType": "object",
         "type": "string"
        },
        {
         "name": "First",
         "rawType": "object",
         "type": "string"
        },
        {
         "name": "Last",
         "rawType": "object",
         "type": "string"
        }
       ],
       "conversionMethod": "pd.DataFrame",
       "ref": "81439732-f4a9-44a4-811a-e70772ef478f",
       "rows": [
        [
         "79",
         "Student",
         "Car",
         "history",
         "Ralph",
         "Hill"
        ],
        [
         "80",
         "Student",
         "Bus",
         "mathematics",
         "Theresa",
         "Green"
        ],
        [
         "81",
         "Faculty",
         "Walk",
         "mathematics",
         "Keith",
         "Nelson"
        ],
        [
         "82",
         "Student",
         "Bicycle",
         "arts",
         "Monica",
         "Adams"
        ],
        [
         "83",
         "Student",
         "Car",
         "science",
         "Jeremy",
         "Perry"
        ],
        [
         "84",
         "Student",
         "Bus",
         "science",
         "Kayla",
         "Cook"
        ],
        [
         "85",
         "Student",
         "Walk",
         "mathematics",
         "Roger",
         "Evans"
        ],
        [
         "86",
         "Staff",
         "Bicycle",
         "mathematics",
         "Tiffany",
         "Parker"
        ],
        [
         "87",
         "Student",
         "Car",
         "english",
         "Terry",
         "Armstrong"
        ],
        [
         "88",
         "Student",
         "Bus",
         "english",
         "Deborah",
         "Collins"
        ],
        [
         "89",
         "Faculty",
         "Bicycle",
         "english",
         "Harper",
         "Armstrong"
        ],
        [
         "90",
         "Student",
         "Walk",
         "science",
         "David",
         "Smith"
        ],
        [
         "91",
         "Staff",
         "Walk",
         "mathematics",
         "Roger",
         "Jones"
        ],
        [
         "92",
         "Student",
         "Walk",
         "science",
         "Jamie",
         "Collins"
        ],
        [
         "93",
         "Student",
         "Bus",
         "science",
         "Casey",
         "Thomas"
        ],
        [
         "94",
         "Student",
         "Bus",
         "history",
         "Terry",
         "Doe"
        ],
        [
         "95",
         "Faculty",
         "Bicycle",
         "history",
         "Dana",
         "White"
        ],
        [
         "96",
         "Student",
         "Bicycle",
         "science",
         "David",
         "Evans"
        ],
        [
         "97",
         "Staff",
         "Car",
         "science",
         "Tiffany",
         "Williams"
        ],
        [
         "98",
         "Student",
         "Walk",
         "science",
         "Robin",
         "Garcia"
        ],
        [
         "99",
         "Student",
         "Walk",
         "english",
         "Robin",
         "Hernandez"
        ],
        [
         "100",
         "Student",
         "Bicycle",
         "english",
         "Reese",
         "Smith"
        ],
        [
         "101",
         "Staff",
         "Bus",
         "science",
         "Morgan",
         "Smith"
        ],
        [
         "102",
         "Faculty",
         "Car",
         "english",
         "Tiffany",
         "Thomas"
        ],
        [
         "103",
         "Student",
         "Car",
         "science",
         "Alex",
         "Parker"
        ],
        [
         "104",
         "Student",
         "Walk",
         "english",
         "Michael",
         "White"
        ],
        [
         "105",
         "Staff",
         "Bicycle",
         "science",
         "Alex",
         "Rodriguez"
        ],
        [
         "106",
         "Staff",
         "Bus",
         "history",
         "Jordan",
         "Doe"
        ],
        [
         "107",
         "Student",
         "Walk",
         "english",
         "Roger",
         "Parker"
        ],
        [
         "108",
         "Staff",
         "Bus",
         "english",
         "Tiffany",
         "Green"
        ],
        [
         "109",
         "Student",
         "Car",
         "history",
         "Quinn",
         "Gonzalez"
        ],
        [
         "110",
         "Staff",
         "Bus",
         "english",
         "Terry",
         "Garcia"
        ],
        [
         "111",
         "Faculty",
         "Car",
         "english",
         "Dana",
         "Anderson"
        ],
        [
         "112",
         "Faculty",
         "Car",
         "history",
         "Avery",
         "Martin"
        ],
        [
         "113",
         "Student",
         "Walk",
         "mathematics",
         "Cameron",
         "Taylor"
        ],
        [
         "114",
         "Student",
         "Walk",
         "english",
         "Robin",
         "Moore"
        ],
        [
         "115",
         "Student",
         "Bus",
         "mathematics",
         "Tiffany",
         "Collins"
        ],
        [
         "116",
         "Student",
         "Bicycle",
         "science",
         "Jamie",
         "Taylor"
        ],
        [
         "117",
         "Student",
         "Car",
         "history",
         "Roger",
         "Doe"
        ],
        [
         "118",
         "Student",
         "Bus",
         "history",
         "Taylor",
         "Martin"
        ],
        [
         "119",
         "Student",
         "Bus",
         "mathematics",
         "Deborah",
         "Parker"
        ],
        [
         "120",
         "Faculty",
         "Bicycle",
         "history",
         "Jordan",
         "Collins"
        ],
        [
         "121",
         "Staff",
         "Bus",
         "science",
         "Dana",
         "Smith"
        ],
        [
         "122",
         "Staff",
         "Bicycle",
         "history",
         "Casey",
         "Thompson"
        ],
        [
         "123",
         "Staff",
         "Car",
         "history",
         "Jamie",
         "Evans"
        ],
        [
         "124",
         "Staff",
         "Bus",
         "history",
         "Peyton",
         "Davis"
        ],
        [
         "125",
         "Faculty",
         "Bicycle",
         "history",
         "Cameron",
         "Cook"
        ],
        [
         "126",
         "Faculty",
         "Bus",
         "history",
         "John",
         "Cook"
        ],
        [
         "127",
         "Faculty",
         "Walk",
         "history",
         "Tiffany",
         "Doe"
        ],
        [
         "128",
         "Student",
         "Car",
         "science",
         "Jordan",
         "Brown"
        ]
       ],
       "shape": {
        "columns": 5,
        "rows": 150
       }
      },
      "text/html": [
       "<div>\n",
       "<style scoped>\n",
       "    .dataframe tbody tr th:only-of-type {\n",
       "        vertical-align: middle;\n",
       "    }\n",
       "\n",
       "    .dataframe tbody tr th {\n",
       "        vertical-align: top;\n",
       "    }\n",
       "\n",
       "    .dataframe thead th {\n",
       "        text-align: right;\n",
       "    }\n",
       "</style>\n",
       "<table border=\"1\" class=\"dataframe\">\n",
       "  <thead>\n",
       "    <tr style=\"text-align: right;\">\n",
       "      <th></th>\n",
       "      <th>Role</th>\n",
       "      <th>Mode of Transport</th>\n",
       "      <th>Department</th>\n",
       "      <th>First</th>\n",
       "      <th>Last</th>\n",
       "    </tr>\n",
       "  </thead>\n",
       "  <tbody>\n",
       "    <tr>\n",
       "      <th>79</th>\n",
       "      <td>Student</td>\n",
       "      <td>Car</td>\n",
       "      <td>history</td>\n",
       "      <td>Ralph</td>\n",
       "      <td>Hill</td>\n",
       "    </tr>\n",
       "    <tr>\n",
       "      <th>80</th>\n",
       "      <td>Student</td>\n",
       "      <td>Bus</td>\n",
       "      <td>mathematics</td>\n",
       "      <td>Theresa</td>\n",
       "      <td>Green</td>\n",
       "    </tr>\n",
       "    <tr>\n",
       "      <th>81</th>\n",
       "      <td>Faculty</td>\n",
       "      <td>Walk</td>\n",
       "      <td>mathematics</td>\n",
       "      <td>Keith</td>\n",
       "      <td>Nelson</td>\n",
       "    </tr>\n",
       "    <tr>\n",
       "      <th>82</th>\n",
       "      <td>Student</td>\n",
       "      <td>Bicycle</td>\n",
       "      <td>arts</td>\n",
       "      <td>Monica</td>\n",
       "      <td>Adams</td>\n",
       "    </tr>\n",
       "    <tr>\n",
       "      <th>83</th>\n",
       "      <td>Student</td>\n",
       "      <td>Car</td>\n",
       "      <td>science</td>\n",
       "      <td>Jeremy</td>\n",
       "      <td>Perry</td>\n",
       "    </tr>\n",
       "    <tr>\n",
       "      <th>...</th>\n",
       "      <td>...</td>\n",
       "      <td>...</td>\n",
       "      <td>...</td>\n",
       "      <td>...</td>\n",
       "      <td>...</td>\n",
       "    </tr>\n",
       "    <tr>\n",
       "      <th>224</th>\n",
       "      <td>Staff</td>\n",
       "      <td>Walk</td>\n",
       "      <td>science</td>\n",
       "      <td>Skyler</td>\n",
       "      <td>Moore</td>\n",
       "    </tr>\n",
       "    <tr>\n",
       "      <th>225</th>\n",
       "      <td>Faculty</td>\n",
       "      <td>Walk</td>\n",
       "      <td>mathematics</td>\n",
       "      <td>Dakota</td>\n",
       "      <td>Taylor</td>\n",
       "    </tr>\n",
       "    <tr>\n",
       "      <th>226</th>\n",
       "      <td>Student</td>\n",
       "      <td>Bus</td>\n",
       "      <td>science</td>\n",
       "      <td>David</td>\n",
       "      <td>Moore</td>\n",
       "    </tr>\n",
       "    <tr>\n",
       "      <th>227</th>\n",
       "      <td>Student</td>\n",
       "      <td>Bus</td>\n",
       "      <td>mathematics</td>\n",
       "      <td>Terry</td>\n",
       "      <td>Cook</td>\n",
       "    </tr>\n",
       "    <tr>\n",
       "      <th>228</th>\n",
       "      <td>Faculty</td>\n",
       "      <td>Bicycle</td>\n",
       "      <td>history</td>\n",
       "      <td>Avery</td>\n",
       "      <td>Jones</td>\n",
       "    </tr>\n",
       "  </tbody>\n",
       "</table>\n",
       "<p>150 rows × 5 columns</p>\n",
       "</div>"
      ],
      "text/plain": [
       "        Role Mode of Transport   Department    First    Last\n",
       "79   Student               Car      history    Ralph    Hill\n",
       "80   Student               Bus  mathematics  Theresa   Green\n",
       "81   Faculty              Walk  mathematics    Keith  Nelson\n",
       "82   Student           Bicycle         arts   Monica   Adams\n",
       "83   Student               Car      science   Jeremy   Perry\n",
       "..       ...               ...          ...      ...     ...\n",
       "224    Staff              Walk      science   Skyler   Moore\n",
       "225  Faculty              Walk  mathematics   Dakota  Taylor\n",
       "226  Student               Bus      science    David   Moore\n",
       "227  Student               Bus  mathematics    Terry    Cook\n",
       "228  Faculty           Bicycle      history    Avery   Jones\n",
       "\n",
       "[150 rows x 5 columns]"
      ]
     },
     "execution_count": 17,
     "metadata": {},
     "output_type": "execute_result"
    }
   ],
   "source": [
    "import random\n",
    "\n",
    "# Define possible values for each column\n",
    "roles = ['Student', 'Faculty', 'Staff']\n",
    "modes_of_transport = ['Car', 'Bus', 'Walk', 'Bicycle']\n",
    "departments = ['english', 'history', 'science', 'mathematics']\n",
    "first_names = ['John', 'Jane', 'Michael', 'Emily', 'David', 'Kayla', 'Roger', 'Tiffany', 'Terry', 'Deborah',\n",
    "               'Chris', 'Pat', 'Alex', 'Jordan', 'Taylor', 'Morgan', 'Casey', 'Jamie', 'Robin', 'Dana',\n",
    "               'Cameron', 'Avery', 'Riley', 'Skyler', 'Quinn', 'Reese', 'Peyton', 'Dakota', 'Bailey', 'Harper']\n",
    "last_names = ['Smith', 'Doe', 'Brown', 'Green', 'White', 'Cook', 'Evans', 'Parker', 'Armstrong', 'Collins',\n",
    "              'Johnson', 'Williams', 'Jones', 'Miller', 'Davis', 'Garcia', 'Rodriguez', 'Wilson', 'Martinez', 'Anderson',\n",
    "              'Taylor', 'Thomas', 'Hernandez', 'Moore', 'Martin', 'Jackson', 'Thompson', 'Lopez', 'Lee', 'Gonzalez']\n",
    "\n",
    "# Generate 140 rows of random data\n",
    "new_data = {\n",
    "    'Role': [random.choice(roles) for _ in range(140)],\n",
    "    'Mode of Transport': [random.choice(modes_of_transport) for _ in range(140)],\n",
    "    'Department': [random.choice(departments) for _ in range(140)],\n",
    "    'First': [random.choice(first_names) for _ in range(140)],\n",
    "    'Last': [random.choice(last_names) for _ in range(140)]\n",
    "}\n",
    "\n",
    "# Create a new DataFrame with the new data\n",
    "new_df = pd.DataFrame(new_data)\n",
    "\n",
    "# Concatenate the new data to the existing DataFrame\n",
    "df = pd.concat([df, new_df], ignore_index=True)\n",
    "\n",
    "# Save the updated DataFrame to the CSV file\n",
    "df.to_csv('Fowler_Module3Charts.csv', index=False)\n",
    "\n",
    "# Display the updated DataFrame\n",
    "df.tail(150)"
   ]
  },
  {
   "cell_type": "code",
   "execution_count": 18,
   "metadata": {},
   "outputs": [
    {
     "data": {
      "application/vnd.microsoft.datawrangler.viewer.v0+json": {
       "columns": [
        {
         "name": "index",
         "rawType": "int64",
         "type": "integer"
        },
        {
         "name": "Role",
         "rawType": "object",
         "type": "string"
        },
        {
         "name": "Mode of Transport",
         "rawType": "object",
         "type": "string"
        },
        {
         "name": "Department",
         "rawType": "object",
         "type": "string"
        },
        {
         "name": "First",
         "rawType": "object",
         "type": "string"
        },
        {
         "name": "Last",
         "rawType": "object",
         "type": "string"
        }
       ],
       "conversionMethod": "pd.DataFrame",
       "ref": "803667e7-0db7-4dc2-9360-f2f16a15fd5c",
       "rows": [
        [
         "2",
         "Faculty",
         "Walk",
         "history",
         "Michael",
         "Brown"
        ],
        [
         "103",
         "Student",
         "Car",
         "science",
         "Alex",
         "Parker"
        ],
        [
         "106",
         "Staff",
         "Bus",
         "history",
         "Jordan",
         "Doe"
        ],
        [
         "120",
         "Faculty",
         "Bicycle",
         "history",
         "Jordan",
         "Collins"
        ],
        [
         "125",
         "Faculty",
         "Bicycle",
         "history",
         "Cameron",
         "Cook"
        ],
        [
         "130",
         "Staff",
         "Bus",
         "science",
         "Kayla",
         "Wilson"
        ],
        [
         "133",
         "Faculty",
         "Bicycle",
         "history",
         "Jordan",
         "Doe"
        ],
        [
         "151",
         "Faculty",
         "Bus",
         "history",
         "Bailey",
         "Thomas"
        ],
        [
         "152",
         "Staff",
         "Bus",
         "science",
         "Chris",
         "Jones"
        ],
        [
         "160",
         "Student",
         "Walk",
         "science",
         "Chris",
         "Jones"
        ],
        [
         "166",
         "Faculty",
         "Car",
         "history",
         "Bailey",
         "Thomas"
        ],
        [
         "168",
         "Staff",
         "Bus",
         "science",
         "Riley",
         "Garcia"
        ],
        [
         "171",
         "Student",
         "Bus",
         "english",
         "Jordan",
         "Collins"
        ],
        [
         "176",
         "Faculty",
         "Bicycle",
         "mathematics",
         "Cameron",
         "Cook"
        ],
        [
         "180",
         "Student",
         "Car",
         "science",
         "Robin",
         "Parker"
        ],
        [
         "182",
         "Student",
         "Bus",
         "mathematics",
         "Morgan",
         "Cook"
        ],
        [
         "191",
         "Staff",
         "Walk",
         "mathematics",
         "Riley",
         "Garcia"
        ],
        [
         "194",
         "Staff",
         "Bicycle",
         "mathematics",
         "Michael",
         "Brown"
        ],
        [
         "199",
         "Faculty",
         "Bus",
         "mathematics",
         "Alex",
         "Parker"
        ],
        [
         "201",
         "Staff",
         "Bicycle",
         "history",
         "Kayla",
         "Wilson"
        ],
        [
         "206",
         "Faculty",
         "Car",
         "english",
         "Morgan",
         "Cook"
        ],
        [
         "220",
         "Student",
         "Bus",
         "history",
         "Robin",
         "Parker"
        ]
       ],
       "shape": {
        "columns": 5,
        "rows": 22
       }
      },
      "text/html": [
       "<div>\n",
       "<style scoped>\n",
       "    .dataframe tbody tr th:only-of-type {\n",
       "        vertical-align: middle;\n",
       "    }\n",
       "\n",
       "    .dataframe tbody tr th {\n",
       "        vertical-align: top;\n",
       "    }\n",
       "\n",
       "    .dataframe thead th {\n",
       "        text-align: right;\n",
       "    }\n",
       "</style>\n",
       "<table border=\"1\" class=\"dataframe\">\n",
       "  <thead>\n",
       "    <tr style=\"text-align: right;\">\n",
       "      <th></th>\n",
       "      <th>Role</th>\n",
       "      <th>Mode of Transport</th>\n",
       "      <th>Department</th>\n",
       "      <th>First</th>\n",
       "      <th>Last</th>\n",
       "    </tr>\n",
       "  </thead>\n",
       "  <tbody>\n",
       "    <tr>\n",
       "      <th>2</th>\n",
       "      <td>Faculty</td>\n",
       "      <td>Walk</td>\n",
       "      <td>history</td>\n",
       "      <td>Michael</td>\n",
       "      <td>Brown</td>\n",
       "    </tr>\n",
       "    <tr>\n",
       "      <th>103</th>\n",
       "      <td>Student</td>\n",
       "      <td>Car</td>\n",
       "      <td>science</td>\n",
       "      <td>Alex</td>\n",
       "      <td>Parker</td>\n",
       "    </tr>\n",
       "    <tr>\n",
       "      <th>106</th>\n",
       "      <td>Staff</td>\n",
       "      <td>Bus</td>\n",
       "      <td>history</td>\n",
       "      <td>Jordan</td>\n",
       "      <td>Doe</td>\n",
       "    </tr>\n",
       "    <tr>\n",
       "      <th>120</th>\n",
       "      <td>Faculty</td>\n",
       "      <td>Bicycle</td>\n",
       "      <td>history</td>\n",
       "      <td>Jordan</td>\n",
       "      <td>Collins</td>\n",
       "    </tr>\n",
       "    <tr>\n",
       "      <th>125</th>\n",
       "      <td>Faculty</td>\n",
       "      <td>Bicycle</td>\n",
       "      <td>history</td>\n",
       "      <td>Cameron</td>\n",
       "      <td>Cook</td>\n",
       "    </tr>\n",
       "    <tr>\n",
       "      <th>130</th>\n",
       "      <td>Staff</td>\n",
       "      <td>Bus</td>\n",
       "      <td>science</td>\n",
       "      <td>Kayla</td>\n",
       "      <td>Wilson</td>\n",
       "    </tr>\n",
       "    <tr>\n",
       "      <th>133</th>\n",
       "      <td>Faculty</td>\n",
       "      <td>Bicycle</td>\n",
       "      <td>history</td>\n",
       "      <td>Jordan</td>\n",
       "      <td>Doe</td>\n",
       "    </tr>\n",
       "    <tr>\n",
       "      <th>151</th>\n",
       "      <td>Faculty</td>\n",
       "      <td>Bus</td>\n",
       "      <td>history</td>\n",
       "      <td>Bailey</td>\n",
       "      <td>Thomas</td>\n",
       "    </tr>\n",
       "    <tr>\n",
       "      <th>152</th>\n",
       "      <td>Staff</td>\n",
       "      <td>Bus</td>\n",
       "      <td>science</td>\n",
       "      <td>Chris</td>\n",
       "      <td>Jones</td>\n",
       "    </tr>\n",
       "    <tr>\n",
       "      <th>160</th>\n",
       "      <td>Student</td>\n",
       "      <td>Walk</td>\n",
       "      <td>science</td>\n",
       "      <td>Chris</td>\n",
       "      <td>Jones</td>\n",
       "    </tr>\n",
       "    <tr>\n",
       "      <th>166</th>\n",
       "      <td>Faculty</td>\n",
       "      <td>Car</td>\n",
       "      <td>history</td>\n",
       "      <td>Bailey</td>\n",
       "      <td>Thomas</td>\n",
       "    </tr>\n",
       "    <tr>\n",
       "      <th>168</th>\n",
       "      <td>Staff</td>\n",
       "      <td>Bus</td>\n",
       "      <td>science</td>\n",
       "      <td>Riley</td>\n",
       "      <td>Garcia</td>\n",
       "    </tr>\n",
       "    <tr>\n",
       "      <th>171</th>\n",
       "      <td>Student</td>\n",
       "      <td>Bus</td>\n",
       "      <td>english</td>\n",
       "      <td>Jordan</td>\n",
       "      <td>Collins</td>\n",
       "    </tr>\n",
       "    <tr>\n",
       "      <th>176</th>\n",
       "      <td>Faculty</td>\n",
       "      <td>Bicycle</td>\n",
       "      <td>mathematics</td>\n",
       "      <td>Cameron</td>\n",
       "      <td>Cook</td>\n",
       "    </tr>\n",
       "    <tr>\n",
       "      <th>180</th>\n",
       "      <td>Student</td>\n",
       "      <td>Car</td>\n",
       "      <td>science</td>\n",
       "      <td>Robin</td>\n",
       "      <td>Parker</td>\n",
       "    </tr>\n",
       "    <tr>\n",
       "      <th>182</th>\n",
       "      <td>Student</td>\n",
       "      <td>Bus</td>\n",
       "      <td>mathematics</td>\n",
       "      <td>Morgan</td>\n",
       "      <td>Cook</td>\n",
       "    </tr>\n",
       "    <tr>\n",
       "      <th>191</th>\n",
       "      <td>Staff</td>\n",
       "      <td>Walk</td>\n",
       "      <td>mathematics</td>\n",
       "      <td>Riley</td>\n",
       "      <td>Garcia</td>\n",
       "    </tr>\n",
       "    <tr>\n",
       "      <th>194</th>\n",
       "      <td>Staff</td>\n",
       "      <td>Bicycle</td>\n",
       "      <td>mathematics</td>\n",
       "      <td>Michael</td>\n",
       "      <td>Brown</td>\n",
       "    </tr>\n",
       "    <tr>\n",
       "      <th>199</th>\n",
       "      <td>Faculty</td>\n",
       "      <td>Bus</td>\n",
       "      <td>mathematics</td>\n",
       "      <td>Alex</td>\n",
       "      <td>Parker</td>\n",
       "    </tr>\n",
       "    <tr>\n",
       "      <th>201</th>\n",
       "      <td>Staff</td>\n",
       "      <td>Bicycle</td>\n",
       "      <td>history</td>\n",
       "      <td>Kayla</td>\n",
       "      <td>Wilson</td>\n",
       "    </tr>\n",
       "    <tr>\n",
       "      <th>206</th>\n",
       "      <td>Faculty</td>\n",
       "      <td>Car</td>\n",
       "      <td>english</td>\n",
       "      <td>Morgan</td>\n",
       "      <td>Cook</td>\n",
       "    </tr>\n",
       "    <tr>\n",
       "      <th>220</th>\n",
       "      <td>Student</td>\n",
       "      <td>Bus</td>\n",
       "      <td>history</td>\n",
       "      <td>Robin</td>\n",
       "      <td>Parker</td>\n",
       "    </tr>\n",
       "  </tbody>\n",
       "</table>\n",
       "</div>"
      ],
      "text/plain": [
       "        Role Mode of Transport   Department    First     Last\n",
       "2    Faculty              Walk      history  Michael    Brown\n",
       "103  Student               Car      science     Alex   Parker\n",
       "106    Staff               Bus      history   Jordan      Doe\n",
       "120  Faculty           Bicycle      history   Jordan  Collins\n",
       "125  Faculty           Bicycle      history  Cameron     Cook\n",
       "130    Staff               Bus      science    Kayla   Wilson\n",
       "133  Faculty           Bicycle      history   Jordan      Doe\n",
       "151  Faculty               Bus      history   Bailey   Thomas\n",
       "152    Staff               Bus      science    Chris    Jones\n",
       "160  Student              Walk      science    Chris    Jones\n",
       "166  Faculty               Car      history   Bailey   Thomas\n",
       "168    Staff               Bus      science    Riley   Garcia\n",
       "171  Student               Bus      english   Jordan  Collins\n",
       "176  Faculty           Bicycle  mathematics  Cameron     Cook\n",
       "180  Student               Car      science    Robin   Parker\n",
       "182  Student               Bus  mathematics   Morgan     Cook\n",
       "191    Staff              Walk  mathematics    Riley   Garcia\n",
       "194    Staff           Bicycle  mathematics  Michael    Brown\n",
       "199  Faculty               Bus  mathematics     Alex   Parker\n",
       "201    Staff           Bicycle      history    Kayla   Wilson\n",
       "206  Faculty               Car      english   Morgan     Cook\n",
       "220  Student               Bus      history    Robin   Parker"
      ]
     },
     "execution_count": 18,
     "metadata": {},
     "output_type": "execute_result"
    }
   ],
   "source": [
    "duplicate_rows = df[df.duplicated(subset=['First', 'Last'], keep=False)]\n",
    "duplicate_rows"
   ]
  },
  {
   "cell_type": "code",
   "execution_count": 19,
   "metadata": {},
   "outputs": [
    {
     "data": {
      "application/vnd.microsoft.datawrangler.viewer.v0+json": {
       "columns": [
        {
         "name": "index",
         "rawType": "int64",
         "type": "integer"
        },
        {
         "name": "Role",
         "rawType": "object",
         "type": "string"
        },
        {
         "name": "Mode of Transport",
         "rawType": "object",
         "type": "string"
        },
        {
         "name": "Department",
         "rawType": "object",
         "type": "string"
        },
        {
         "name": "First",
         "rawType": "object",
         "type": "string"
        },
        {
         "name": "Last",
         "rawType": "object",
         "type": "string"
        }
       ],
       "conversionMethod": "pd.DataFrame",
       "ref": "bdcabeca-c9dc-47b3-9ead-d80ccd4f0690",
       "rows": [
        [
         "0",
         "Student",
         "Car",
         "english",
         "John",
         "Smith"
        ],
        [
         "1",
         "Student",
         "Bus",
         "english",
         "Jane",
         "Doe"
        ],
        [
         "2",
         "Faculty",
         "Walk",
         "history",
         "Michael",
         "Brown"
        ],
        [
         "3",
         "Staff",
         "Bicycle",
         "english",
         "Emily",
         "Green"
        ],
        [
         "4",
         "Student",
         "Car",
         "history",
         "David",
         "White"
        ]
       ],
       "shape": {
        "columns": 5,
        "rows": 5
       }
      },
      "text/html": [
       "<div>\n",
       "<style scoped>\n",
       "    .dataframe tbody tr th:only-of-type {\n",
       "        vertical-align: middle;\n",
       "    }\n",
       "\n",
       "    .dataframe tbody tr th {\n",
       "        vertical-align: top;\n",
       "    }\n",
       "\n",
       "    .dataframe thead th {\n",
       "        text-align: right;\n",
       "    }\n",
       "</style>\n",
       "<table border=\"1\" class=\"dataframe\">\n",
       "  <thead>\n",
       "    <tr style=\"text-align: right;\">\n",
       "      <th></th>\n",
       "      <th>Role</th>\n",
       "      <th>Mode of Transport</th>\n",
       "      <th>Department</th>\n",
       "      <th>First</th>\n",
       "      <th>Last</th>\n",
       "    </tr>\n",
       "  </thead>\n",
       "  <tbody>\n",
       "    <tr>\n",
       "      <th>0</th>\n",
       "      <td>Student</td>\n",
       "      <td>Car</td>\n",
       "      <td>english</td>\n",
       "      <td>John</td>\n",
       "      <td>Smith</td>\n",
       "    </tr>\n",
       "    <tr>\n",
       "      <th>1</th>\n",
       "      <td>Student</td>\n",
       "      <td>Bus</td>\n",
       "      <td>english</td>\n",
       "      <td>Jane</td>\n",
       "      <td>Doe</td>\n",
       "    </tr>\n",
       "    <tr>\n",
       "      <th>2</th>\n",
       "      <td>Faculty</td>\n",
       "      <td>Walk</td>\n",
       "      <td>history</td>\n",
       "      <td>Michael</td>\n",
       "      <td>Brown</td>\n",
       "    </tr>\n",
       "    <tr>\n",
       "      <th>3</th>\n",
       "      <td>Staff</td>\n",
       "      <td>Bicycle</td>\n",
       "      <td>english</td>\n",
       "      <td>Emily</td>\n",
       "      <td>Green</td>\n",
       "    </tr>\n",
       "    <tr>\n",
       "      <th>4</th>\n",
       "      <td>Student</td>\n",
       "      <td>Car</td>\n",
       "      <td>history</td>\n",
       "      <td>David</td>\n",
       "      <td>White</td>\n",
       "    </tr>\n",
       "  </tbody>\n",
       "</table>\n",
       "</div>"
      ],
      "text/plain": [
       "      Role Mode of Transport Department    First   Last\n",
       "0  Student               Car    english     John  Smith\n",
       "1  Student               Bus    english     Jane    Doe\n",
       "2  Faculty              Walk    history  Michael  Brown\n",
       "3    Staff           Bicycle    english    Emily  Green\n",
       "4  Student               Car    history    David  White"
      ]
     },
     "execution_count": 19,
     "metadata": {},
     "output_type": "execute_result"
    }
   ],
   "source": [
    "# Drop duplicate rows\n",
    "df = df.drop_duplicates(subset=['First', 'Last'])\n",
    "\n",
    "# Save the updated DataFrame to the CSV file\n",
    "df.to_csv('Fowler_Module3Charts.csv', index=False)\n",
    "\n",
    "# Display the updated DataFrame\n",
    "df.head()"
   ]
  },
  {
   "cell_type": "code",
   "execution_count": 20,
   "metadata": {},
   "outputs": [
    {
     "data": {
      "image/png": "[encoded data removed]",
      "text/plain": [
       "<Waffle size 640x480 with 1 Axes>"
      ]
     },
     "metadata": {},
     "output_type": "display_data"
    }
   ],
   "source": [
    "from pywaffle import Waffle\n",
    "\n",
    "# Count the occurrences of each mode of transport\n",
    "transport_counts = df['Mode of Transport'].value_counts()\n",
    "\n",
    "# Calculate the percentages\n",
    "total = transport_counts.sum()\n",
    "transport_percentages = (transport_counts / total * 100).round().astype(int)\n",
    "\n",
    "# Define the colors for each mode of transport\n",
    "colors = {\n",
    "    'Car': '#FF9999',\n",
    "    'Bus': '#66B2FF',\n",
    "    'Walk': '#99FF99',\n",
    "    'Bicycle': '#FFCC99'\n",
    "}\n",
    "\n",
    "# Create the waffle chart\n",
    "fig = plt.figure(\n",
    "    FigureClass=Waffle, \n",
    "    rows=10, \n",
    "    values=transport_percentages, \n",
    "    colors=[colors[key] for key in transport_percentages.index],\n",
    "    legend={'labels': [f\"{key} ({value}%)\" for key, value in transport_percentages.items()], 'loc': 'upper left', 'bbox_to_anchor': (1, 1)},\n",
    "    title={'label': 'Mode of Transport Distribution', 'loc': 'center'}\n",
    ")\n",
    "\n",
    "plt.show()"
   ]
  },
  {
   "cell_type": "code",
   "execution_count": 31,
   "metadata": {},
   "outputs": [
    {
     "data": {
      "image/png": "[encoded data removed]",
      "text/plain": [
       "<Waffle size 600x600 with 1 Axes>"
      ]
     },
     "metadata": {},
     "output_type": "display_data"
    },
    {
     "data": {
      "image/png": "[encoded data removed]",
      "text/plain": [
       "<Waffle size 600x600 with 1 Axes>"
      ]
     },
     "metadata": {},
     "output_type": "display_data"
    },
    {
     "data": {
      "image/png": "[encoded data removed]",
      "text/plain": [
       "<Waffle size 600x600 with 1 Axes>"
      ]
     },
     "metadata": {},
     "output_type": "display_data"
    },
    {
     "data": {
      "image/png": "[encoded data removed]",
      "text/plain": [
       "<Waffle size 600x600 with 1 Axes>"
      ]
     },
     "metadata": {},
     "output_type": "display_data"
    }
   ],
   "source": [
    "# Count the occurrences of each mode of transport by role\n",
    "transport_role_counts = df.groupby(['Mode of Transport', 'Role']).size().unstack().fillna(0)\n",
    "\n",
    "# Calculate the percentages\n",
    "transport_role_percentages = (transport_role_counts.div(transport_role_counts.sum(axis=1), axis=0) * 100).round().astype(int)\n",
    "\n",
    "# Define the colors for each role\n",
    "role_colors = {\n",
    "    'Student': '#FF9999',\n",
    "    'Faculty': '#66B2FF',\n",
    "    'Staff': '#99FF99'\n",
    "}\n",
    "\n",
    "# Create the waffle charts\n",
    "fig1 = plt.figure(\n",
    "    FigureClass=Waffle, \n",
    "    rows=10, \n",
    "    values=transport_role_percentages.loc['Bicycle'], \n",
    "    colors=[role_colors[key] for key in transport_role_percentages.columns],\n",
    "    legend={'labels': [f\"{key} ({value}%)\" for key, value in transport_role_percentages.loc['Bicycle'].items()], 'loc': 'upper left', 'bbox_to_anchor': (1, 1)},\n",
    "    title={'label': 'Bicycle by Role', 'loc': 'center'},\n",
    "    figsize=(6, 6)\n",
    ")\n",
    "\n",
    "fig2 = plt.figure(\n",
    "    FigureClass=Waffle, \n",
    "    rows=10, \n",
    "    values=transport_role_percentages.loc['Walk'], \n",
    "    colors=[role_colors[key] for key in transport_role_percentages.columns],\n",
    "    legend={'labels': [f\"{key} ({value}%)\" for key, value in transport_role_percentages.loc['Walk'].items()], 'loc': 'upper left', 'bbox_to_anchor': (1, 1)},\n",
    "    title={'label': 'Walk by Role', 'loc': 'center'},\n",
    "    figsize=(6, 6)\n",
    ")\n",
    "\n",
    "fig3 = plt.figure(\n",
    "    FigureClass=Waffle, \n",
    "    rows=10, \n",
    "    values=transport_role_percentages.loc['Car'], \n",
    "    colors=[role_colors[key] for key in transport_role_percentages.columns],\n",
    "    legend={'labels': [f\"{key} ({value}%)\" for key, value in transport_role_percentages.loc['Car'].items()], 'loc': 'upper left', 'bbox_to_anchor': (1, 1)},\n",
    "    title={'label': 'Car by Role', 'loc': 'center'},\n",
    "    figsize=(6, 6)\n",
    ")\n",
    "\n",
    "fig4 = plt.figure(\n",
    "    FigureClass=Waffle, \n",
    "    rows=10, \n",
    "    values=transport_role_percentages.loc['Bus'], \n",
    "    colors=[role_colors[key] for key in transport_role_percentages.columns],\n",
    "    legend={'labels': [f\"{key} ({value}%)\" for key, value in transport_role_percentages.loc['Bus'].items()], 'loc': 'upper left', 'bbox_to_anchor': (1, 1)},\n",
    "    title={'label': 'Bus by Role', 'loc': 'center'},\n",
    "    figsize=(6, 6)\n",
    ")\n",
    "\n",
    "plt.show()"
   ]
  }
 ],
 "metadata": {
  "kernelspec": {
   "display_name": ".venv",
   "language": "python",
   "name": "python3"
  },
  "language_info": {
   "codemirror_mode": {
    "name": "ipython",
    "version": 3
   },
   "file_extension": ".py",
   "mimetype": "text/x-python",
   "name": "python",
   "nbconvert_exporter": "python",
   "pygments_lexer": "ipython3",
   "version": "3.12.3"
  }
 },
 "nbformat": 4,
 "nbformat_minor": 2
}
