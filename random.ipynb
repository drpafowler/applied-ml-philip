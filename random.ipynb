{
 "cells": [
  {
   "cell_type": "code",
   "execution_count": 3,
   "metadata": {},
   "outputs": [],
   "source": [
    "import statistics\n",
    "import math\n",
    "import random\n"
   ]
  },
  {
   "cell_type": "code",
   "execution_count": 46,
   "metadata": {},
   "outputs": [
    {
     "name": "stdout",
     "output_type": "stream",
     "text": [
      "There are 40 digits.\n"
     ]
    }
   ],
   "source": [
    "data = \"HTHTHHHHTTTTHHHHTTHTHHTHHTTTHHTHHTTTTTTH\"\n",
    "\n",
    "data = data.replace(\" \", \"\")\n",
    "\n",
    "if len(data) == 40:\n",
    "    print(\"There are 40 digits.\")\n",
    "else:\n",
    "    print(f\"There are not 40 digits. There are {len(data)} digits.\")"
   ]
  },
  {
   "cell_type": "code",
   "execution_count": 47,
   "metadata": {},
   "outputs": [
    {
     "name": "stdout",
     "output_type": "stream",
     "text": [
      "Chi-Square: 0.0, p-value: 1.0\n",
      "The sequence is random.\n"
     ]
    }
   ],
   "source": [
    "from scipy.stats import chisquare\n",
    "\n",
    "def chi_square_test(data):\n",
    "    \"\"\"Performs a Chi-Square test for randomness.\"\"\"\n",
    "    observed = [data.count('H'), data.count('T')]\n",
    "    expected = [len(data) / 2, len(data) / 2]\n",
    "    chi2, p_value = chisquare(observed, expected)\n",
    "    return chi2, p_value\n",
    "\n",
    "def check_40_chi_square(data):\n",
    "    \"\"\"Check if the data is 40 long and if the sequence of Hs and Ts is random using Chi-Square test.\"\"\"\n",
    "    if len(data) != 40:\n",
    "        raise ValueError(\"Data length must be 40.\")\n",
    "    \n",
    "    chi2, p_value = chi_square_test(data)\n",
    "    return chi2, p_value\n",
    "\n",
    "chi2, p_value = check_40_chi_square(data)\n",
    "print(f\"Chi-Square: {chi2}, p-value: {p_value}\")\n",
    "if p_value > 0.05:\n",
    "    print(\"The sequence is random.\")\n",
    "else:\n",
    "    print(\"The sequence is not random.\")\n"
   ]
  }
 ],
 "metadata": {
  "kernelspec": {
   "display_name": ".venv",
   "language": "python",
   "name": "python3"
  },
  "language_info": {
   "codemirror_mode": {
    "name": "ipython",
    "version": 3
   },
   "file_extension": ".py",
   "mimetype": "text/x-python",
   "name": "python",
   "nbconvert_exporter": "python",
   "pygments_lexer": "ipython3",
   "version": "3.12.3"
  }
 },
 "nbformat": 4,
 "nbformat_minor": 2
}
